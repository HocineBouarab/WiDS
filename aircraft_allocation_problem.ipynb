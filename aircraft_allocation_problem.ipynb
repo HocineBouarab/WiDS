{
 "cells": [
  {
   "cell_type": "code",
   "execution_count": 1,
   "metadata": {},
   "outputs": [],
   "source": [
    "import pandas as pd\n",
    "import numpy as np\n",
    "import pulp as plp\n",
    "\n",
    "from IPython.display import display, Math, Latex"
   ]
  },
  {
   "cell_type": "code",
   "execution_count": 2,
   "metadata": {},
   "outputs": [],
   "source": [
    "#importing Data"
   ]
  },
  {
   "cell_type": "code",
   "execution_count": 3,
   "metadata": {},
   "outputs": [],
   "source": [
    "flights = pd.read_excel(\"../WiDS/flight_data.xlsx\", sheet_name=\"flights\")\n",
    "fleet = pd.read_excel(\"../WiDS/flight_data.xlsx\", sheet_name=\"fleet\")\n",
    "timezone = pd.read_excel(\"../WiDS/flight_data.xlsx\", sheet_name=\"timeZone\")"
   ]
  },
  {
   "cell_type": "code",
   "execution_count": 4,
   "metadata": {},
   "outputs": [],
   "source": [
    "# Math Model"
   ]
  },
  {
   "cell_type": "markdown",
   "metadata": {},
   "source": [
    "Variables: \n",
    "$$x_{t,f,f^\\prime} =  \\left\\{ \n",
    "\\begin{array}{l}\n",
    "1 \\text{ if flight } f^\\prime \\text{ is covered after flight } f \\text{ by aircraft } t\\\\\n",
    "0 \\text{ otherwise}\n",
    "\\end{array}\n",
    "\\right.$$"
   ]
  },
  {
   "cell_type": "markdown",
   "metadata": {},
   "source": [
    "Constraints:\n",
    "\n",
    "1 - Every flight must be allocated to an aircraft:\n",
    "$$\n",
    "\\sum_{t\\in T}\\sum_{f^\\prime \\in F} x_{t,f,f^\\prime} = 1,\\qquad \\forall f \\in F\n",
    "$$"
   ]
  },
  {
   "cell_type": "markdown",
   "metadata": {},
   "source": [
    "2 - We cannot used more than available aircrafts:\n",
    "\n",
    "This constraints is taking into consideration while building the variables $x_{t,f,f^\\prime}$ : we don't built a variable for for a non existing aircraft"
   ]
  },
  {
   "cell_type": "markdown",
   "metadata": {},
   "source": [
    "3 - Minimum ground Time (MGT):\n",
    "\n",
    "After covering the flight $f$ the aircraft $t$ must have a MGT of 45 min before flying $f^\\prime$. This constraints is taking into consideration while building the variables $x_{t,f,f^\\prime}$ : there is at least 45 min between the arrival time of $f$ and the departure time of $f^\\prime$.\n"
   ]
  },
  {
   "cell_type": "markdown",
   "metadata": {},
   "source": [
    "4 - Non-broken paths for aicrafts:\n",
    "\n",
    "$$\n",
    "\\sum_{f^\\prime\\in F} x_{t,f^\\prime,f} = \\sum_{f^\\prime \\in F} x_{t,f,f^\\prime} ,\\qquad \\forall f \\in F, \\forall t\\in T\n",
    "$$"
   ]
  },
  {
   "cell_type": "markdown",
   "metadata": {},
   "source": [
    "5 - The plan of an aircraft must start \\& end in DXB:\n",
    "\n",
    "One trick to implement this is to add for every aircraft two \"virtual\" flights departing \\& landing in DXB."
   ]
  },
  {
   "cell_type": "code",
   "execution_count": null,
   "metadata": {},
   "outputs": [],
   "source": []
  },
  {
   "cell_type": "code",
   "execution_count": 5,
   "metadata": {},
   "outputs": [],
   "source": [
    "# converting times to UTC\n",
    "timezone = timezone.set_index('airport').to_dict('index')\n",
    "from datetime import timedelta\n",
    "flights['dptTime'] = flights.apply(\n",
    "    lambda x: x['dptTime'] + timedelta(hours=timezone[x['org']]['to_utc']),\n",
    "    axis=1\n",
    ")\n",
    "\n",
    "flights['arrTime'] = flights.apply(\n",
    "    lambda x: x['arrTime'] + timedelta(hours=timezone[x['dst']]['to_utc']),\n",
    "    axis=1\n",
    ")"
   ]
  },
  {
   "cell_type": "code",
   "execution_count": 6,
   "metadata": {},
   "outputs": [],
   "source": [
    "# keeping a copy of the data\n",
    "solution = flights.copy(deep=True)"
   ]
  },
  {
   "cell_type": "code",
   "execution_count": 7,
   "metadata": {},
   "outputs": [],
   "source": [
    "flights[\"virtual\"] = False"
   ]
  },
  {
   "cell_type": "code",
   "execution_count": 8,
   "metadata": {},
   "outputs": [],
   "source": [
    "from pandas import Timestamp\n",
    "\n",
    "virtual_1 = {\n",
    "    'ID' : 0,\n",
    "    'Flight Number' : 'XX9001',\n",
    "    'org' : 'DXB',\n",
    "    'dst' : 'DXB',\n",
    "    'dptTime' : Timestamp('2019-01-05 00:00:00'),\n",
    "    'arrTime' : Timestamp('2019-01-05 00:00:00'),\n",
    "    'subfleet' : 'Boeing 737-800',\n",
    "    'virtual' : True\n",
    "}\n",
    "virtual_2 = {\n",
    "    'ID' : 100,\n",
    "    'Flight Number' : 'XX9002',\n",
    "    'org' : 'DXB',\n",
    "    'dst' : 'DXB',\n",
    "    'dptTime' : Timestamp('2019-01-07 00:00:00'),\n",
    "    'arrTime' : Timestamp('2019-01-07 00:00:00'),\n",
    "    'subfleet': 'Boeing 737-800',\n",
    "    'virtual' : True\n",
    "}\n",
    "\n"
   ]
  },
  {
   "cell_type": "code",
   "execution_count": 9,
   "metadata": {},
   "outputs": [],
   "source": [
    "flights = flights.append(virtual_1, ignore_index=True)\n",
    "flights = flights.append(virtual_2, ignore_index=True)"
   ]
  },
  {
   "cell_type": "code",
   "execution_count": 10,
   "metadata": {},
   "outputs": [],
   "source": [
    "# creating variables"
   ]
  },
  {
   "cell_type": "code",
   "execution_count": 11,
   "metadata": {},
   "outputs": [],
   "source": [
    "def create_var(flight_ID_1, flight_ID_2, aircraft_ID, list_variables):\n",
    "        list_variables.append({\n",
    "            'var': plp.LpVariable(\n",
    "                cat= plp.LpBinary,\n",
    "                name= aircraft_ID\\\n",
    "                    + \"_flt_\" + np.str(flight_ID_1)\\\n",
    "                    + \"_\" + np.str(flight_ID_2)\n",
    "            ),\n",
    "            'aircraft': aircraft_ID,\n",
    "            'flt1': flight_ID_1,\n",
    "            'flt2': flight_ID_2\n",
    "        \n",
    "        })\n",
    "        \n",
    "        return list_variables\n",
    "        "
   ]
  },
  {
   "cell_type": "code",
   "execution_count": 12,
   "metadata": {},
   "outputs": [],
   "source": [
    "def vars_for_next_flts(flight_ID, dst, arrTime, df_nextFlts, df_fleet):\n",
    "    from datetime import timedelta\n",
    "    mgt = 45 #min\n",
    "    timestamp = arrTime + timedelta(minutes=mgt)\n",
    "    df = df_nextFlts.loc[df_nextFlts.ID != flight_ID]\n",
    "    df = df.loc[df.org == dst]\n",
    "    df = df.loc[df.dptTime >= timestamp]\n",
    "\n",
    "    list_variables = []\n",
    "    for ac in fleet.aircraft.unique():\n",
    "        for value in df.values:\n",
    "            next_flight = value[0]\n",
    "            list_variables = create_var(flight_ID, next_flight, ac, list_variables)\n",
    "\n",
    "    return list_variables"
   ]
  },
  {
   "cell_type": "code",
   "execution_count": 13,
   "metadata": {},
   "outputs": [],
   "source": [
    "flights[\"variables\"] = flights.apply(\n",
    "    lambda x: vars_for_next_flts(\n",
    "        x['ID'], x['dst'], x['arrTime'], flights.copy(deep=True), fleet\n",
    "    ), axis=1\n",
    "             )\n"
   ]
  },
  {
   "cell_type": "code",
   "execution_count": 14,
   "metadata": {},
   "outputs": [],
   "source": [
    "# flight cover constraints"
   ]
  },
  {
   "cell_type": "code",
   "execution_count": 15,
   "metadata": {},
   "outputs": [],
   "source": [
    "flights['flight_cover'] = flights.apply(\n",
    "    lambda x: \n",
    "    plp.LpConstraint(\n",
    "        e=plp.lpSum(y['var'] for y in x['variables']),\n",
    "        sense=plp.LpConstraintEQ,\n",
    "        rhs= 1,\n",
    "        name= \"cover_flt_\" + np.str(x['ID'])\n",
    "    ) if (x['virtual'] == False) else None, \n",
    "    axis=1\n",
    ")\n"
   ]
  },
  {
   "cell_type": "code",
   "execution_count": 16,
   "metadata": {},
   "outputs": [],
   "source": [
    "# path constraints"
   ]
  },
  {
   "cell_type": "code",
   "execution_count": 17,
   "metadata": {},
   "outputs": [],
   "source": [
    "flights['in_variables'] = flights.apply(\n",
    "    lambda x: dict.fromkeys(fleet.aircraft.unique()), axis=1)\n",
    "flights['out_variables'] = flights.apply(\n",
    "    lambda x: dict.fromkeys(fleet.aircraft.unique()), axis=1)"
   ]
  },
  {
   "cell_type": "code",
   "execution_count": 18,
   "metadata": {},
   "outputs": [],
   "source": [
    "def find_in_vars(flightID, dic_in_variables, df_flights):\n",
    "    for ac in dic_in_variables:\n",
    "        dic_in_variables[ac] = []\n",
    "    for list_variables in df_flights.variables:\n",
    "        for var in list_variables:\n",
    "            if (var['flt2'] == flightID):\n",
    "                dic_in_variables[var['aircraft']].append(var)\n"
   ]
  },
  {
   "cell_type": "code",
   "execution_count": 19,
   "metadata": {},
   "outputs": [],
   "source": [
    "def find_out_vars(flightID, dic_out_variables, df_flights):\n",
    "    for ac in dic_out_variables:\n",
    "        dic_out_variables[ac] = []\n",
    "    for list_variables in df_flights.variables:\n",
    "        for var in list_variables:\n",
    "            if (var['flt1'] == flightID):\n",
    "                dic_out_variables[var['aircraft']].append(var)"
   ]
  },
  {
   "cell_type": "code",
   "execution_count": 20,
   "metadata": {
    "scrolled": true
   },
   "outputs": [],
   "source": [
    "status = flights.apply(\n",
    "    lambda x: find_in_vars(x['ID'], x['in_variables'], flights.copy(deep=True)),\n",
    "    axis=1\n",
    ")"
   ]
  },
  {
   "cell_type": "code",
   "execution_count": 21,
   "metadata": {},
   "outputs": [],
   "source": [
    "status = flights.apply(\n",
    "    lambda x: find_out_vars(x['ID'], x['out_variables'], flights.copy(deep=True)),\n",
    "    axis=1\n",
    ")"
   ]
  },
  {
   "cell_type": "code",
   "execution_count": 22,
   "metadata": {},
   "outputs": [],
   "source": [
    "def create_path_constraints(flightID, virtual, df_flights, df_fleet):\n",
    "    dict_path_constraints = dict.fromkeys(fleet.aircraft.unique())\n",
    "    in_variables = df_flights.loc[df_flights.ID ==flightID]['in_variables'].values[0]\n",
    "    out_variables = df_flights.loc[df_flights.ID ==flightID]['out_variables'].values[0]\n",
    "    \n",
    "    for ac in dict_path_constraints:\n",
    "        dict_path_constraints[ac] = plp.LpConstraint(\n",
    "            e=plp.lpSum(variable['var'] for variable in in_variables[ac])- plp.lpSum(variable['var'] for variable in out_variables[ac]),\n",
    "            sense=plp.LpConstraintEQ,\n",
    "            rhs=0 if virtual == False else (-1 if flightID ==0 else +1),\n",
    "            name=\"path_\" + ac + \"_\" + np.str(flightID)\n",
    "        )\n",
    "    return dict_path_constraints"
   ]
  },
  {
   "cell_type": "code",
   "execution_count": 23,
   "metadata": {
    "scrolled": true
   },
   "outputs": [],
   "source": [
    "flights['path_cntr'] = flights.apply(\n",
    "    lambda x: create_path_constraints(\n",
    "        x['ID'], x['virtual'], flights.copy(deep=True), fleet),\n",
    "    axis=1\n",
    ")"
   ]
  },
  {
   "cell_type": "code",
   "execution_count": null,
   "metadata": {},
   "outputs": [],
   "source": []
  },
  {
   "cell_type": "code",
   "execution_count": 24,
   "metadata": {},
   "outputs": [],
   "source": [
    "opt_model = plp.LpProblem(name=\"aircraft_ass_model\")"
   ]
  },
  {
   "cell_type": "code",
   "execution_count": 25,
   "metadata": {},
   "outputs": [],
   "source": [
    "# add varaibles\n",
    "status = flights.apply( \n",
    "    lambda x: \n",
    "    [opt_model.addVariable(y['var']) for y in x['variables']],\n",
    "    axis=1\n",
    ")"
   ]
  },
  {
   "cell_type": "code",
   "execution_count": 26,
   "metadata": {},
   "outputs": [],
   "source": [
    "# add constraints\n",
    "status = flights.loc[flights.virtual == False].apply( \n",
    "    lambda x: opt_model.addConstraint(x['flight_cover']),axis=1\n",
    ")"
   ]
  },
  {
   "cell_type": "code",
   "execution_count": 27,
   "metadata": {},
   "outputs": [],
   "source": [
    "status = flights.apply( \n",
    "    lambda x: [opt_model.addConstraint(x['path_cntr'][ac]) for ac in x['path_cntr']],axis=1\n",
    ")"
   ]
  },
  {
   "cell_type": "code",
   "execution_count": 28,
   "metadata": {},
   "outputs": [],
   "source": [
    "opt_model.writeLP(\"aircraft_ass_model.LP\")"
   ]
  },
  {
   "cell_type": "code",
   "execution_count": 29,
   "metadata": {},
   "outputs": [
    {
     "name": "stdout",
     "output_type": "stream",
     "text": [
      "an optimal solution has been found\n"
     ]
    }
   ],
   "source": [
    "status = opt_model.solve()\n",
    "if(status == 1):\n",
    "    print(\"an optimal solution has been found\")\n",
    "else:\n",
    "    print(\"no solution found\")"
   ]
  },
  {
   "cell_type": "code",
   "execution_count": 30,
   "metadata": {},
   "outputs": [],
   "source": [
    "# processing data"
   ]
  },
  {
   "cell_type": "code",
   "execution_count": 31,
   "metadata": {},
   "outputs": [],
   "source": [
    "varsdict = {}\n",
    "for v in opt_model.variables():\n",
    "    if v.name == '__dummy': continue\n",
    "    varsdict[v.name] = v.varValue"
   ]
  },
  {
   "cell_type": "code",
   "execution_count": 32,
   "metadata": {
    "scrolled": false
   },
   "outputs": [],
   "source": [
    "dict_flight_ass = {}\n",
    "for v in varsdict:\n",
    "    if varsdict[v] > 0:\n",
    "        var_split = v.split(\"_\")\n",
    "        if var_split[2] == '0':\n",
    "            continue\n",
    "        dict_flight_ass[var_split[2]] = var_split[0]"
   ]
  },
  {
   "cell_type": "code",
   "execution_count": 33,
   "metadata": {},
   "outputs": [],
   "source": [
    "solution['aircraft'] = solution.apply(lambda x: dict_flight_ass[np.str(x['ID'])], axis=1)"
   ]
  },
  {
   "cell_type": "code",
   "execution_count": 34,
   "metadata": {},
   "outputs": [],
   "source": [
    "solution = flights.copy(deep=True)"
   ]
  },
  {
   "cell_type": "code",
   "execution_count": 35,
   "metadata": {},
   "outputs": [],
   "source": [
    "# writing solution"
   ]
  },
  {
   "cell_type": "code",
   "execution_count": 36,
   "metadata": {},
   "outputs": [],
   "source": [
    "solution.to_csv(\"aicraft_allocations.csv\")"
   ]
  }
 ],
 "metadata": {
  "kernelspec": {
   "display_name": "Python 3",
   "language": "python",
   "name": "python3"
  },
  "language_info": {
   "codemirror_mode": {
    "name": "ipython",
    "version": 3
   },
   "file_extension": ".py",
   "mimetype": "text/x-python",
   "name": "python",
   "nbconvert_exporter": "python",
   "pygments_lexer": "ipython3",
   "version": "3.7.1"
  }
 },
 "nbformat": 4,
 "nbformat_minor": 2
}
